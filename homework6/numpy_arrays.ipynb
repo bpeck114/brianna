{
 "cells": [
  {
   "cell_type": "markdown",
   "id": "d8eb1abf-7bae-4f6e-bcc3-31450ba2923d",
   "metadata": {},
   "source": [
    "# HW 6 - NumPy Arrays\n",
    "## 1D NumPy Arrays"
   ]
  },
  {
   "cell_type": "code",
   "execution_count": 1,
   "id": "2139d0f4-ab0f-422a-a867-724d1b0496a1",
   "metadata": {},
   "outputs": [],
   "source": [
    "import numpy as np"
   ]
  },
  {
   "cell_type": "code",
   "execution_count": 2,
   "id": "c40cd456-17f7-4696-9640-37a8eb8eae82",
   "metadata": {},
   "outputs": [],
   "source": [
    "lst = [20, 27, 9, 12, 31, 17, 4, 50, 39, 35]\n",
    "arr = np.array(lst)"
   ]
  },
  {
   "cell_type": "code",
   "execution_count": 3,
   "id": "f8652529-d690-40b9-8315-816a365cfbe2",
   "metadata": {},
   "outputs": [
    {
     "name": "stdout",
     "output_type": "stream",
     "text": [
      "Multiplied by 4: [ 80 108  36  48 124  68  16 200 156 140]\n",
      "Mean: 24.4\n",
      "Median: 23.5\n",
      "Standard Deviation: 13.828955130450023\n"
     ]
    }
   ],
   "source": [
    "print(\"Multiplied by 4:\", arr * 4)\n",
    "print(\"Mean:\", np.mean(arr))\n",
    "print(\"Median:\", np.median(arr))\n",
    "print(\"Standard Deviation:\", np.std(arr))"
   ]
  },
  {
   "cell_type": "code",
   "execution_count": 4,
   "id": "b0b6eb78-1541-4704-aea5-52c1c3ac9543",
   "metadata": {},
   "outputs": [
    {
     "name": "stdout",
     "output_type": "stream",
     "text": [
      "Index of min: 6\n",
      "Index of max: 7\n"
     ]
    }
   ],
   "source": [
    "min_idx = np.argmin(arr)\n",
    "max_idx = np.argmax(arr)\n",
    "print(\"Index of min:\", min_idx)\n",
    "print(\"Index of max:\", max_idx)"
   ]
  },
  {
   "cell_type": "code",
   "execution_count": 5,
   "id": "880f50c8-4b93-4e94-b06b-378975609d98",
   "metadata": {},
   "outputs": [
    {
     "name": "stdout",
     "output_type": "stream",
     "text": [
      "Min value: 4\n",
      "Max value: 50\n"
     ]
    }
   ],
   "source": [
    "print(\"Min value:\", arr[min_idx])\n",
    "print(\"Max value:\", arr[max_idx])"
   ]
  },
  {
   "cell_type": "code",
   "execution_count": 6,
   "id": "7363b776-eccb-412c-97bc-967729cfcf9d",
   "metadata": {},
   "outputs": [
    {
     "name": "stdout",
     "output_type": "stream",
     "text": [
      "Using np.min(): 4\n",
      "Using np.max(): 50\n"
     ]
    }
   ],
   "source": [
    "print(\"Using np.min():\", np.min(arr))\n",
    "print(\"Using np.max():\", np.max(arr))"
   ]
  },
  {
   "cell_type": "code",
   "execution_count": 7,
   "id": "c4511254-e51f-48b2-945e-a939ef743845",
   "metadata": {},
   "outputs": [
    {
     "name": "stdout",
     "output_type": "stream",
     "text": [
      "Values > 20: [27 31 50 39 35]\n"
     ]
    }
   ],
   "source": [
    "greater_than_20 = arr[arr > 20]\n",
    "print(\"Values > 20:\", greater_than_20)"
   ]
  },
  {
   "cell_type": "markdown",
   "id": "4b23a6d9-6c32-4067-811f-80dbcfd840f8",
   "metadata": {},
   "source": [
    "## 2D NumPy Arrays"
   ]
  },
  {
   "cell_type": "code",
   "execution_count": 8,
   "id": "b58ebc21-3d6f-403a-aee5-ca9037cd7f9f",
   "metadata": {},
   "outputs": [],
   "source": [
    "matrix = np.array([\n",
    "    [5, 12, 17, 9],\n",
    "    [8, 21, 14, 3],\n",
    "    [6, 13, 19, 11]\n",
    "])"
   ]
  },
  {
   "cell_type": "code",
   "execution_count": 9,
   "id": "71513f89-1c5d-4a02-9e26-3091e81f645b",
   "metadata": {},
   "outputs": [
    {
     "name": "stdout",
     "output_type": "stream",
     "text": [
      "Shape: (3, 4)\n",
      "Third column: [17 14 19]\n",
      "Second row: [ 8 21 14  3]\n",
      "Doubled matrix:\n",
      " [[10 24 34 18]\n",
      " [16 42 28  6]\n",
      " [12 26 38 22]]\n",
      "Mean of each column: [ 6.33333333 15.33333333 16.66666667  7.66666667]\n",
      "Overall mean: 11.5\n",
      "Max of each row: [17 21 19]\n",
      "Min of each column: [ 5 12 14  3]\n"
     ]
    }
   ],
   "source": [
    "print(\"Shape:\", matrix.shape)  # (3, 4)\n",
    "print(\"Third column:\", matrix[:, 2])\n",
    "print(\"Second row:\", matrix[1])\n",
    "print(\"Doubled matrix:\\n\", matrix * 2)\n",
    "print(\"Mean of each column:\", np.mean(matrix, axis=0))\n",
    "print(\"Overall mean:\", np.mean(matrix))\n",
    "print(\"Max of each row:\", np.max(matrix, axis=1))\n",
    "print(\"Min of each column:\", np.min(matrix, axis=0))"
   ]
  },
  {
   "cell_type": "code",
   "execution_count": 10,
   "id": "24a0eeaa-fb71-4893-8e68-9b854da330e7",
   "metadata": {},
   "outputs": [
    {
     "name": "stdout",
     "output_type": "stream",
     "text": [
      "Flattened: [ 5 12 17  9  8 21 14  3  6 13 19 11]\n",
      "New shape: (12,)\n"
     ]
    }
   ],
   "source": [
    "flat = matrix.flatten()\n",
    "print(\"Flattened:\", flat)\n",
    "print(\"New shape:\", flat.shape)  # (12,)"
   ]
  },
  {
   "cell_type": "code",
   "execution_count": 11,
   "id": "26eb1eb8-b549-4a99-8b1b-1eec6d69bb9b",
   "metadata": {},
   "outputs": [
    {
     "name": "stdout",
     "output_type": "stream",
     "text": [
      "Flat min index: 7\n",
      "Flat max index: 5\n"
     ]
    }
   ],
   "source": [
    "min_idx = np.argmin(flat)\n",
    "max_idx = np.argmax(flat)\n",
    "print(\"Flat min index:\", min_idx)\n",
    "print(\"Flat max index:\", max_idx)"
   ]
  },
  {
   "cell_type": "code",
   "execution_count": 12,
   "id": "967b5b2c-e543-4c61-83c5-ce1199375e20",
   "metadata": {},
   "outputs": [
    {
     "name": "stdout",
     "output_type": "stream",
     "text": [
      "Min coords: (1, 3)\n",
      "Max coords: (1, 1)\n"
     ]
    }
   ],
   "source": [
    "min_coords = np.unravel_index(min_idx, matrix.shape)\n",
    "max_coords = np.unravel_index(max_idx, matrix.shape)\n",
    "print(\"Min coords:\", min_coords)\n",
    "print(\"Max coords:\", max_coords)"
   ]
  },
  {
   "cell_type": "code",
   "execution_count": 13,
   "id": "b5177f1b-5f0d-4a1a-8667-55e048cb3092",
   "metadata": {},
   "outputs": [
    {
     "name": "stdout",
     "output_type": "stream",
     "text": [
      "Values > 15: [17 21 19]\n"
     ]
    }
   ],
   "source": [
    "greater_15 = matrix[matrix > 15]\n",
    "print(\"Values > 15:\", greater_15)"
   ]
  },
  {
   "cell_type": "code",
   "execution_count": 14,
   "id": "8702d67f-70e8-45b7-b24b-edc570709be7",
   "metadata": {},
   "outputs": [
    {
     "name": "stdout",
     "output_type": "stream",
     "text": [
      "Row-sorted matrix:\n",
      " [[ 5  9 12 17]\n",
      " [ 3  8 14 21]\n",
      " [ 6 11 13 19]]\n"
     ]
    }
   ],
   "source": [
    "sorted_matrix = np.sort(matrix, axis=1)\n",
    "print(\"Row-sorted matrix:\\n\", sorted_matrix)"
   ]
  },
  {
   "cell_type": "markdown",
   "id": "c64b4988-a0c9-422f-bb15-0a6479aef17b",
   "metadata": {},
   "source": [
    "## Prime Star Systems"
   ]
  },
  {
   "cell_type": "code",
   "execution_count": 15,
   "id": "38c493e6-8b29-457a-93f4-02e0f22cfbc4",
   "metadata": {},
   "outputs": [],
   "source": [
    "def is_prime(n):\n",
    "    if n < 2:\n",
    "        return False\n",
    "    for i in range(2, int(n**0.5) + 1):\n",
    "        if n % i == 0:\n",
    "            return False\n",
    "    return True"
   ]
  },
  {
   "cell_type": "code",
   "execution_count": 16,
   "id": "ff1de7a5-c648-4747-b55e-8dc7c7c8713d",
   "metadata": {},
   "outputs": [],
   "source": [
    "def filter_prime_rows(arr):\n",
    "    result = []\n",
    "    for row in arr:\n",
    "        if any(is_prime(num) for num in row):\n",
    "            result.append(row)\n",
    "    return np.array(result)"
   ]
  },
  {
   "cell_type": "code",
   "execution_count": 17,
   "id": "ab0cece6-1d25-4f8d-8dbc-a6907dc7dfdb",
   "metadata": {},
   "outputs": [
    {
     "name": "stdout",
     "output_type": "stream",
     "text": [
      "Prime rows:\n",
      " [[ 2  3  5]\n",
      " [11 13 17]\n",
      " [ 7 10 13]]\n"
     ]
    }
   ],
   "source": [
    "arr = np.array([\n",
    "    [2, 3, 5],\n",
    "    [14, 6, 8],\n",
    "    [11, 13, 17],\n",
    "    [7, 10, 13]\n",
    "])\n",
    "\n",
    "print(\"Prime rows:\\n\", filter_prime_rows(arr))"
   ]
  },
  {
   "cell_type": "markdown",
   "id": "17529294-13bb-45ac-b339-312f687aecd5",
   "metadata": {},
   "source": [
    "## Let's Play Checkers"
   ]
  },
  {
   "cell_type": "code",
   "execution_count": 18,
   "id": "fe47eb61-326b-4b5b-899e-897c31b50ecf",
   "metadata": {},
   "outputs": [
    {
     "name": "stdout",
     "output_type": "stream",
     "text": [
      "[[0 0 0 0 0 0 0 0]\n",
      " [0 0 0 0 0 0 0 0]\n",
      " [0 0 0 0 0 0 0 0]\n",
      " [0 0 0 0 0 0 0 0]\n",
      " [0 0 0 0 0 0 0 0]\n",
      " [0 0 0 0 0 0 0 0]\n",
      " [0 0 0 0 0 0 0 0]\n",
      " [0 0 0 0 0 0 0 0]]\n"
     ]
    }
   ],
   "source": [
    "def empty_checkerboard():\n",
    "    return np.zeros((8, 8), dtype=int)\n",
    "\n",
    "print(empty_checkerboard())"
   ]
  },
  {
   "cell_type": "code",
   "execution_count": 19,
   "id": "e780dd09-cd07-4eaf-89af-f8afd8c7f2c8",
   "metadata": {},
   "outputs": [
    {
     "name": "stdout",
     "output_type": "stream",
     "text": [
      "[[1 0 1 0 1 0 1 0]\n",
      " [0 1 0 1 0 1 0 1]\n",
      " [1 0 1 0 1 0 1 0]\n",
      " [0 1 0 1 0 1 0 1]\n",
      " [1 0 1 0 1 0 1 0]\n",
      " [0 1 0 1 0 1 0 1]\n",
      " [1 0 1 0 1 0 1 0]\n",
      " [0 1 0 1 0 1 0 1]]\n"
     ]
    }
   ],
   "source": [
    "def checkerboard():\n",
    "    board = np.zeros((8, 8), dtype=int)\n",
    "    for i in range(8):\n",
    "        board[i, i % 2::2] = 1\n",
    "    return board\n",
    "\n",
    "print(checkerboard())"
   ]
  },
  {
   "cell_type": "code",
   "execution_count": 20,
   "id": "25954232-477b-4f5f-9134-10074320cf3f",
   "metadata": {},
   "outputs": [
    {
     "name": "stdout",
     "output_type": "stream",
     "text": [
      "[[0 1 0 1 0 1 0 1]\n",
      " [1 0 1 0 1 0 1 0]\n",
      " [0 1 0 1 0 1 0 1]\n",
      " [1 0 1 0 1 0 1 0]\n",
      " [0 1 0 1 0 1 0 1]\n",
      " [1 0 1 0 1 0 1 0]\n",
      " [0 1 0 1 0 1 0 1]\n",
      " [1 0 1 0 1 0 1 0]]\n"
     ]
    }
   ],
   "source": [
    "def reverse_checkerboard():\n",
    "    board = np.ones((8, 8), dtype=int)\n",
    "    for i in range(8):\n",
    "        board[i, i % 2::2] = 0\n",
    "    return board\n",
    "\n",
    "print(reverse_checkerboard())"
   ]
  },
  {
   "cell_type": "markdown",
   "id": "281b7f2a-b8f5-485b-8d3a-c8ceb12050fc",
   "metadata": {},
   "source": [
    "## The Expanding Universe"
   ]
  },
  {
   "cell_type": "code",
   "execution_count": 21,
   "id": "0adca4d9-abd7-4330-b01c-7320a0bae52b",
   "metadata": {},
   "outputs": [],
   "source": [
    "def expansion(array, spaces):\n",
    "    result = []\n",
    "    for word in array:\n",
    "        spaced = (' ' * spaces).join(list(word))\n",
    "        result.append(spaced)\n",
    "    return np.array(result)"
   ]
  },
  {
   "cell_type": "code",
   "execution_count": 22,
   "id": "7fe2fd56-099d-46b4-9a2e-4d346e6c25f7",
   "metadata": {},
   "outputs": [
    {
     "name": "stdout",
     "output_type": "stream",
     "text": [
      "['g a l a x y' 'c l u s t e r s']\n",
      "['g  a  l  a  x  y' 'c  l  u  s  t  e  r  s']\n"
     ]
    }
   ],
   "source": [
    "universe = np.array(['galaxy', 'clusters'])\n",
    "print(expansion(universe, 1))  # Single space\n",
    "print(expansion(universe, 2))  # Double space"
   ]
  },
  {
   "cell_type": "markdown",
   "id": "5b5cd106-791a-4357-8dd4-0b479e233c17",
   "metadata": {},
   "source": [
    "## Second Brightest Star"
   ]
  },
  {
   "cell_type": "code",
   "execution_count": 23,
   "id": "cdcab6c1-316a-4840-b5ec-311bbf909138",
   "metadata": {},
   "outputs": [
    {
     "name": "stdout",
     "output_type": "stream",
     "text": [
      "Stars:\n",
      " [[1889 1906 1846 1622 1541]\n",
      " [ 606 1647 1738  596  613]\n",
      " [1138  547  573 1442  724]\n",
      " [ 611 1933 1863 1346 1777]\n",
      " [ 920 1108 1732 1592  951]]\n",
      "Second brightest in each row: [1889 1647 1138 1863 1592]\n"
     ]
    }
   ],
   "source": [
    "def secondDimmest(arr):\n",
    "    result = []\n",
    "    for row in arr:\n",
    "        sorted_row = np.sort(row)\n",
    "        result.append(sorted_row[-2])\n",
    "    return np.array(result)\n",
    "\n",
    "np.random.seed(123)\n",
    "stars = np.random.randint(500, 2000, (5, 5))\n",
    "print(\"Stars:\\n\", stars)\n",
    "print(\"Second brightest in each row:\", secondDimmest(stars))"
   ]
  },
  {
   "cell_type": "code",
   "execution_count": null,
   "id": "9009df4a-fd18-4113-b44b-cee262d47748",
   "metadata": {},
   "outputs": [],
   "source": []
  }
 ],
 "metadata": {
  "kernelspec": {
   "display_name": "Python 3 (ipykernel)",
   "language": "python",
   "name": "python3"
  },
  "language_info": {
   "codemirror_mode": {
    "name": "ipython",
    "version": 3
   },
   "file_extension": ".py",
   "mimetype": "text/x-python",
   "name": "python",
   "nbconvert_exporter": "python",
   "pygments_lexer": "ipython3",
   "version": "3.11.0"
  }
 },
 "nbformat": 4,
 "nbformat_minor": 5
}
